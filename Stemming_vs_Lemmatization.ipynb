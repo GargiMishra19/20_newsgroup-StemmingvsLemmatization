{
 "cells": [
  {
   "cell_type": "markdown",
   "metadata": {},
   "source": [
    "# Text classification for 20Newsgroup dataset\n",
    "## Stemming VS Lemmatization  using TF-IDF\n",
    "\n",
    "By - Gargi Mishra\n",
    "\n",
    "M.Tech Computer Science and Technology\n",
    "\n",
    "SCSS, JNU"
   ]
  },
  {
   "cell_type": "markdown",
   "metadata": {},
   "source": [
    "### Importing libraries"
   ]
  },
  {
   "cell_type": "code",
   "execution_count": 1,
   "metadata": {},
   "outputs": [],
   "source": [
    "import numpy as np\n",
    "import pandas as pd\n",
    "from nltk.stem.snowball import SnowballStemmer\n",
    "from nltk.stem import WordNetLemmatizer\n",
    "import nltk"
   ]
  },
  {
   "cell_type": "markdown",
   "metadata": {},
   "source": [
    "### 1) Importing dataset\n",
    "#### Training data"
   ]
  },
  {
   "cell_type": "code",
   "execution_count": 2,
   "metadata": {},
   "outputs": [],
   "source": [
    "#Loading the data set - training data.\n",
    "from sklearn.datasets import fetch_20newsgroups\n",
    "mydata_train = fetch_20newsgroups(subset='train', shuffle=True, remove = ('headers', 'footers', 'quotes'))"
   ]
  },
  {
   "cell_type": "code",
   "execution_count": 3,
   "metadata": {},
   "outputs": [
    {
     "name": "stdout",
     "output_type": "stream",
     "text": [
      "Training data size: 11314\n"
     ]
    }
   ],
   "source": [
    "print('Training data size:', len(mydata_train['data']))"
   ]
  },
  {
   "cell_type": "code",
   "execution_count": 4,
   "metadata": {},
   "outputs": [
    {
     "data": {
      "text/plain": [
       "11314"
      ]
     },
     "execution_count": 4,
     "metadata": {},
     "output_type": "execute_result"
    }
   ],
   "source": [
    "len(mydata_train['target'])"
   ]
  },
  {
   "cell_type": "code",
   "execution_count": 5,
   "metadata": {},
   "outputs": [
    {
     "data": {
      "text/plain": [
       "['alt.atheism',\n",
       " 'comp.graphics',\n",
       " 'comp.os.ms-windows.misc',\n",
       " 'comp.sys.ibm.pc.hardware',\n",
       " 'comp.sys.mac.hardware',\n",
       " 'comp.windows.x',\n",
       " 'misc.forsale',\n",
       " 'rec.autos',\n",
       " 'rec.motorcycles',\n",
       " 'rec.sport.baseball',\n",
       " 'rec.sport.hockey',\n",
       " 'sci.crypt',\n",
       " 'sci.electronics',\n",
       " 'sci.med',\n",
       " 'sci.space',\n",
       " 'soc.religion.christian',\n",
       " 'talk.politics.guns',\n",
       " 'talk.politics.mideast',\n",
       " 'talk.politics.misc',\n",
       " 'talk.religion.misc']"
      ]
     },
     "execution_count": 5,
     "metadata": {},
     "output_type": "execute_result"
    }
   ],
   "source": [
    "# Printing all the categories\n",
    "mydata_train.target_names"
   ]
  },
  {
   "cell_type": "code",
   "execution_count": 6,
   "metadata": {},
   "outputs": [
    {
     "data": {
      "text/plain": [
       "(array([ 0,  1,  2,  3,  4,  5,  6,  7,  8,  9, 10, 11, 12, 13, 14, 15, 16,\n",
       "        17, 18, 19]),\n",
       " array([480, 584, 591, 590, 578, 593, 585, 594, 598, 597, 600, 595, 591,\n",
       "        594, 593, 599, 546, 564, 465, 377], dtype=int64))"
      ]
     },
     "execution_count": 6,
     "metadata": {},
     "output_type": "execute_result"
    }
   ],
   "source": [
    "# Finding frequency of each category\n",
    "targets, frequency = np.unique(mydata_train.target, return_counts=True)\n",
    "targets, frequency "
   ]
  },
  {
   "cell_type": "markdown",
   "metadata": {},
   "source": [
    "#### Test data"
   ]
  },
  {
   "cell_type": "code",
   "execution_count": 7,
   "metadata": {},
   "outputs": [],
   "source": [
    "#Loading the dataset - test data\n",
    "mydata_test = fetch_20newsgroups(subset='test', shuffle=True, remove = ('headers', 'footers', 'quotes'))"
   ]
  },
  {
   "cell_type": "code",
   "execution_count": 8,
   "metadata": {},
   "outputs": [
    {
     "name": "stdout",
     "output_type": "stream",
     "text": [
      "Testing data size: 7532\n"
     ]
    }
   ],
   "source": [
    "print('Testing data size:', len(mydata_test['data']))"
   ]
  },
  {
   "cell_type": "code",
   "execution_count": 9,
   "metadata": {},
   "outputs": [
    {
     "data": {
      "text/plain": [
       "(array([ 0,  1,  2,  3,  4,  5,  6,  7,  8,  9, 10, 11, 12, 13, 14, 15, 16,\n",
       "        17, 18, 19]),\n",
       " array([319, 389, 394, 392, 385, 395, 390, 396, 398, 397, 399, 396, 393,\n",
       "        396, 394, 398, 364, 376, 310, 251], dtype=int64))"
      ]
     },
     "execution_count": 9,
     "metadata": {},
     "output_type": "execute_result"
    }
   ],
   "source": [
    "# Finding frequency of each category\n",
    "targets_test, frequency_test = np.unique(mydata_test.target, return_counts=True)\n",
    "targets_test, frequency_test"
   ]
  },
  {
   "cell_type": "markdown",
   "metadata": {},
   "source": [
    "### 2) Data preprocessing"
   ]
  },
  {
   "cell_type": "code",
   "execution_count": 10,
   "metadata": {},
   "outputs": [
    {
     "data": {
      "text/html": [
       "<div>\n",
       "<style scoped>\n",
       "    .dataframe tbody tr th:only-of-type {\n",
       "        vertical-align: middle;\n",
       "    }\n",
       "\n",
       "    .dataframe tbody tr th {\n",
       "        vertical-align: top;\n",
       "    }\n",
       "\n",
       "    .dataframe thead th {\n",
       "        text-align: right;\n",
       "    }\n",
       "</style>\n",
       "<table border=\"1\" class=\"dataframe\">\n",
       "  <thead>\n",
       "    <tr style=\"text-align: right;\">\n",
       "      <th></th>\n",
       "      <th>data</th>\n",
       "      <th>target</th>\n",
       "    </tr>\n",
       "  </thead>\n",
       "  <tbody>\n",
       "    <tr>\n",
       "      <th>0</th>\n",
       "      <td>I was wondering if anyone out there could enli...</td>\n",
       "      <td>7</td>\n",
       "    </tr>\n",
       "    <tr>\n",
       "      <th>1</th>\n",
       "      <td>A fair number of brave souls who upgraded thei...</td>\n",
       "      <td>4</td>\n",
       "    </tr>\n",
       "    <tr>\n",
       "      <th>2</th>\n",
       "      <td>well folks, my mac plus finally gave up the gh...</td>\n",
       "      <td>4</td>\n",
       "    </tr>\n",
       "    <tr>\n",
       "      <th>3</th>\n",
       "      <td>\\nDo you have Weitek's address/phone number?  ...</td>\n",
       "      <td>1</td>\n",
       "    </tr>\n",
       "    <tr>\n",
       "      <th>4</th>\n",
       "      <td>From article &lt;C5owCB.n3p@world.std.com&gt;, by to...</td>\n",
       "      <td>14</td>\n",
       "    </tr>\n",
       "  </tbody>\n",
       "</table>\n",
       "</div>"
      ],
      "text/plain": [
       "                                                data  target\n",
       "0  I was wondering if anyone out there could enli...       7\n",
       "1  A fair number of brave souls who upgraded thei...       4\n",
       "2  well folks, my mac plus finally gave up the gh...       4\n",
       "3  \\nDo you have Weitek's address/phone number?  ...       1\n",
       "4  From article <C5owCB.n3p@world.std.com>, by to...      14"
      ]
     },
     "execution_count": 10,
     "metadata": {},
     "output_type": "execute_result"
    }
   ],
   "source": [
    "#Train data\n",
    "mydata_train_df = pd.DataFrame({'data': mydata_train.data, 'target': mydata_train.target})\n",
    "\n",
    "#Test data\n",
    "mydata_test_df = pd.DataFrame({'data': mydata_test.data, 'target': mydata_test.target})\n",
    "\n",
    "mydata_train_df.head()"
   ]
  },
  {
   "cell_type": "code",
   "execution_count": 11,
   "metadata": {},
   "outputs": [],
   "source": [
    "# Text preprocessing steps - remove numbers, captial letters and punctuation\n",
    "import re\n",
    "import string\n",
    "\n",
    "alphanumeric = lambda x: re.sub(r\"\"\"\\w*\\d\\w*\"\"\", ' ', x)\n",
    "punc_lower = lambda x: re.sub('[%s]' % re.escape(string.punctuation), ' ', x.lower())\n",
    "\n",
    "mydata_train_df['data'] = mydata_train_df.data.map(alphanumeric).map(punc_lower)\n",
    "mydata_test_df = pd.DataFrame({'data': mydata_test.data, 'target': mydata_test.target})"
   ]
  },
  {
   "cell_type": "markdown",
   "metadata": {},
   "source": [
    "#### TF-IDF vectorizer"
   ]
  },
  {
   "cell_type": "code",
   "execution_count": 12,
   "metadata": {},
   "outputs": [
    {
     "name": "stdout",
     "output_type": "stream",
     "text": [
      "(11314, 67822)\n"
     ]
    }
   ],
   "source": [
    "# Creating a document-term matrix using TF-IDF\n",
    "from sklearn.feature_extraction.text import TfidfVectorizer\n",
    "\n",
    "tfidfV = TfidfVectorizer(stop_words='english') \n",
    "\n",
    "X_train_tfidfV = tfidfV.fit_transform(mydata_train_df.data) \n",
    "X_test_tfidfV = tfidfV.transform(mydata_test_df.data) \n",
    "\n",
    "print(X_train_tfidfV.shape)"
   ]
  },
  {
   "cell_type": "markdown",
   "metadata": {},
   "source": [
    "## Model building\n",
    "\n",
    "### I. Not using stemming and lemmatization"
   ]
  },
  {
   "cell_type": "code",
   "execution_count": 13,
   "metadata": {},
   "outputs": [],
   "source": [
    "# Use a Naive Bayes model \n",
    "from sklearn.naive_bayes import MultinomialNB \n",
    "\n",
    "mnb = MultinomialNB() \n",
    "\n",
    "# Train the model \n",
    "y_train = mydata_train_df.target\n",
    "mnb.fit(X_train_tfidfV, y_train) \n",
    "\n",
    "y_pred_mnb = mnb.predict(X_test_tfidfV) "
   ]
  },
  {
   "cell_type": "code",
   "execution_count": 14,
   "metadata": {},
   "outputs": [
    {
     "name": "stdout",
     "output_type": "stream",
     "text": [
      "              precision    recall  f1-score   support\n",
      "\n",
      "           0       0.78      0.19      0.31       319\n",
      "           1       0.66      0.67      0.67       389\n",
      "           2       0.66      0.60      0.63       394\n",
      "           3       0.56      0.73      0.63       392\n",
      "           4       0.75      0.64      0.69       385\n",
      "           5       0.80      0.76      0.78       395\n",
      "           6       0.80      0.75      0.77       390\n",
      "           7       0.84      0.71      0.77       396\n",
      "           8       0.85      0.73      0.79       398\n",
      "           9       0.92      0.81      0.86       397\n",
      "          10       0.57      0.94      0.71       399\n",
      "          11       0.59      0.80      0.68       396\n",
      "          12       0.69      0.52      0.59       393\n",
      "          13       0.88      0.76      0.81       396\n",
      "          14       0.78      0.75      0.76       394\n",
      "          15       0.38      0.92      0.54       398\n",
      "          16       0.57      0.72      0.64       364\n",
      "          17       0.82      0.79      0.80       376\n",
      "          18       0.88      0.28      0.43       310\n",
      "          19       1.00      0.01      0.02       251\n",
      "\n",
      "   micro avg       0.67      0.67      0.67      7532\n",
      "   macro avg       0.74      0.65      0.64      7532\n",
      "weighted avg       0.73      0.67      0.66      7532\n",
      "\n",
      "0.6745884227296867\n"
     ]
    }
   ],
   "source": [
    "from sklearn.metrics import classification_report, accuracy_score\n",
    "\n",
    "y_test = mydata_test_df.target\n",
    "print(classification_report(y_test, y_pred_mnb))\n",
    "print(accuracy_score(y_test, y_pred_mnb))"
   ]
  },
  {
   "cell_type": "markdown",
   "metadata": {},
   "source": [
    "### II. Using stemming"
   ]
  },
  {
   "cell_type": "code",
   "execution_count": 15,
   "metadata": {},
   "outputs": [],
   "source": [
    "w_tokenizer = nltk.tokenize.WhitespaceTokenizer()\n",
    "stemmer = SnowballStemmer('english')\n",
    "    \n",
    "def stem_text(text):\n",
    "    return(\" \".join([stemmer.stem(w) for w in w_tokenizer.tokenize(text)]))\n",
    "\n",
    "mydata_train_df[\"data_stemmed\"] = mydata_train_df.data.apply(stem_text)\n",
    "mydata_test_df[\"data_stemmed\"] = mydata_test_df.data.apply(stem_text)\n",
    "\n",
    "stfidfV = TfidfVectorizer(stop_words='english') \n",
    "\n",
    "X_train_stfidfV = stfidfV.fit_transform(mydata_train_df.data_stemmed)\n",
    "X_test_stfidfV = stfidfV.transform(mydata_test_df.data_stemmed)"
   ]
  },
  {
   "cell_type": "code",
   "execution_count": 16,
   "metadata": {},
   "outputs": [],
   "source": [
    "# Train the model \n",
    "\n",
    "mnb.fit(X_train_stfidfV, y_train) \n",
    "\n",
    "y_pred_mnb_s = mnb.predict(X_test_stfidfV) "
   ]
  },
  {
   "cell_type": "code",
   "execution_count": 17,
   "metadata": {},
   "outputs": [
    {
     "name": "stdout",
     "output_type": "stream",
     "text": [
      "              precision    recall  f1-score   support\n",
      "\n",
      "           0       0.77      0.14      0.24       319\n",
      "           1       0.64      0.65      0.64       389\n",
      "           2       0.68      0.55      0.61       394\n",
      "           3       0.56      0.73      0.63       392\n",
      "           4       0.75      0.64      0.69       385\n",
      "           5       0.80      0.77      0.78       395\n",
      "           6       0.80      0.68      0.74       390\n",
      "           7       0.83      0.72      0.77       396\n",
      "           8       0.83      0.72      0.77       398\n",
      "           9       0.91      0.78      0.84       397\n",
      "          10       0.57      0.93      0.70       399\n",
      "          11       0.54      0.79      0.64       396\n",
      "          12       0.71      0.51      0.59       393\n",
      "          13       0.87      0.74      0.80       396\n",
      "          14       0.78      0.73      0.76       394\n",
      "          15       0.35      0.91      0.51       398\n",
      "          16       0.54      0.69      0.60       364\n",
      "          17       0.83      0.77      0.80       376\n",
      "          18       0.81      0.27      0.40       310\n",
      "          19       1.00      0.00      0.01       251\n",
      "\n",
      "   micro avg       0.66      0.66      0.66      7532\n",
      "   macro avg       0.73      0.64      0.63      7532\n",
      "weighted avg       0.72      0.66      0.64      7532\n",
      "\n",
      "0.6571959638874137\n"
     ]
    }
   ],
   "source": [
    "print(classification_report(y_test, y_pred_mnb_s))\n",
    "print(accuracy_score(y_test, y_pred_mnb_s))"
   ]
  },
  {
   "cell_type": "markdown",
   "metadata": {},
   "source": [
    "### III. Using lemmatization"
   ]
  },
  {
   "cell_type": "code",
   "execution_count": 18,
   "metadata": {},
   "outputs": [],
   "source": [
    "lemmatizer = nltk.stem.WordNetLemmatizer()\n",
    "\n",
    "def lemmatize_text(text):\n",
    "    return(\" \".join([lemmatizer.lemmatize(w,\"v\") for w in w_tokenizer.tokenize(text)]))\n",
    "\n",
    "mydata_train_df[\"data_lemmatized\"] = mydata_train_df.data.apply(lemmatize_text)\n",
    "mydata_test_df[\"data_lemmatized\"] = mydata_test_df.data.apply(lemmatize_text)\n",
    "\n",
    "ltfidfV = TfidfVectorizer(stop_words='english') \n",
    "\n",
    "X_train_ltfidfV = ltfidfV.fit_transform(mydata_train_df.data_lemmatized)\n",
    "X_test_ltfidfV = ltfidfV.transform(mydata_test_df.data_lemmatized)"
   ]
  },
  {
   "cell_type": "code",
   "execution_count": 19,
   "metadata": {},
   "outputs": [],
   "source": [
    "mnb.fit(X_train_ltfidfV, y_train) \n",
    "\n",
    "y_pred_mnb_l = mnb.predict(X_test_ltfidfV) "
   ]
  },
  {
   "cell_type": "code",
   "execution_count": 20,
   "metadata": {},
   "outputs": [
    {
     "name": "stdout",
     "output_type": "stream",
     "text": [
      "              precision    recall  f1-score   support\n",
      "\n",
      "           0       0.78      0.18      0.29       319\n",
      "           1       0.68      0.67      0.67       389\n",
      "           2       0.68      0.59      0.63       394\n",
      "           3       0.57      0.70      0.63       392\n",
      "           4       0.76      0.66      0.71       385\n",
      "           5       0.79      0.76      0.77       395\n",
      "           6       0.80      0.73      0.76       390\n",
      "           7       0.82      0.72      0.77       396\n",
      "           8       0.83      0.71      0.77       398\n",
      "           9       0.92      0.79      0.85       397\n",
      "          10       0.57      0.93      0.70       399\n",
      "          11       0.58      0.81      0.67       396\n",
      "          12       0.69      0.53      0.60       393\n",
      "          13       0.87      0.76      0.81       396\n",
      "          14       0.80      0.76      0.78       394\n",
      "          15       0.38      0.92      0.53       398\n",
      "          16       0.54      0.71      0.62       364\n",
      "          17       0.80      0.80      0.80       376\n",
      "          18       0.86      0.27      0.42       310\n",
      "          19       1.00      0.00      0.01       251\n",
      "\n",
      "   micro avg       0.67      0.67      0.67      7532\n",
      "   macro avg       0.74      0.65      0.64      7532\n",
      "weighted avg       0.73      0.67      0.66      7532\n",
      "\n",
      "0.6707381837493361\n"
     ]
    }
   ],
   "source": [
    "print(classification_report(y_test, y_pred_mnb_l))\n",
    "print(accuracy_score(y_test, y_pred_mnb_l))"
   ]
  }
 ],
 "metadata": {
  "kernelspec": {
   "display_name": "Python 3",
   "language": "python",
   "name": "python3"
  },
  "language_info": {
   "codemirror_mode": {
    "name": "ipython",
    "version": 3
   },
   "file_extension": ".py",
   "mimetype": "text/x-python",
   "name": "python",
   "nbconvert_exporter": "python",
   "pygments_lexer": "ipython3",
   "version": "3.7.1"
  }
 },
 "nbformat": 4,
 "nbformat_minor": 2
}
